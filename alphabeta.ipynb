{
 "cells": [
  {
   "cell_type": "code",
   "execution_count": 1,
   "metadata": {},
   "outputs": [
    {
     "name": "stdout",
     "output_type": "stream",
     "text": [
      "The optimal value is:  3\n"
     ]
    }
   ],
   "source": [
    "maximum, minimum = 1000, -1000\n",
    "\n",
    "def fun_alphabeta(d, node, maxp, v, A, B):\n",
    "    if d == 3:\n",
    "        return v[node]\n",
    "    if maxp:\n",
    "        best = minimum\n",
    "        for i in range(0, 2):\n",
    "            value = fun_alphabeta(d+1, node*2+i, False, v, A, B)\n",
    "            best = max(best, value)\n",
    "            A = max(A, best)\n",
    "            if B <= A:\n",
    "                break\n",
    "        return best\n",
    "    else:\n",
    "        best = maximum\n",
    "        for i in range(0, 2):\n",
    "            value = fun_alphabeta(d+1, node*2+i, True, v, A, B)\n",
    "            best = min(best, value)\n",
    "            A = min(A, best)\n",
    "            if B <= A:\n",
    "                break\n",
    "        return best\n",
    "\n",
    "scr = []\n",
    "x = int(input(\"Enter total number of leaf node: \"))\n",
    "for i in range(x):\n",
    "    y = int(input(\"Enter node value: \"))\n",
    "    scr.append(y)\n",
    "\n",
    "d = int(input(\"Enter depth value: \"))\n",
    "node = int(input(\"Enter node value: \"))\n",
    "\n",
    "print(\"The optimal value is: \", fun_alphabeta(d, node, True, scr, minimum, maximum))\n"
   ]
  },
  {
   "cell_type": "code",
   "execution_count": null,
   "metadata": {},
   "outputs": [],
   "source": []
  }
 ],
 "metadata": {
  "kernelspec": {
   "display_name": "deeplearning",
   "language": "python",
   "name": "python3"
  },
  "language_info": {
   "codemirror_mode": {
    "name": "ipython",
    "version": 3
   },
   "file_extension": ".py",
   "mimetype": "text/x-python",
   "name": "python",
   "nbconvert_exporter": "python",
   "pygments_lexer": "ipython3",
   "version": "3.10.9"
  },
  "orig_nbformat": 4
 },
 "nbformat": 4,
 "nbformat_minor": 2
}
